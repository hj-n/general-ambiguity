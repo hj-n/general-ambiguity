{
 "cells": [
  {
   "cell_type": "markdown",
   "metadata": {},
   "source": [
    "### Import libraries"
   ]
  },
  {
   "cell_type": "code",
   "execution_count": 2,
   "metadata": {},
   "outputs": [],
   "source": [
    "import json\n",
    "import numpy as np"
   ]
  },
  {
   "cell_type": "markdown",
   "metadata": {},
   "source": [
    "### Basic file import"
   ]
  },
  {
   "cell_type": "code",
   "execution_count": 3,
   "metadata": {},
   "outputs": [
    {
     "name": "stdout",
     "output_type": "stream",
     "text": [
      "['heart_attack_analysis_prediction_dataset_lle_7.npy', 'spambase_lle_0.npy', 'breast_cancer_wisconsin_original_rp_3.npy', 'turkish_music_emotion_densmap_13.npy', 'yeast_tsne_2.npy', 'imdb_isomap_1.npy', 'iris_umap_6.npy', 'dermatology_rp_11.npy', 'iris_tsne_4.npy', 'fashion_mnist_rp_3.npy', 'rice_seed_gonen_jasmine_rp_8.npy', 'magic_gamma_telescope_rp_0.npy', 'raisin_tsne_5.npy', 'diabetic_retinopathy_debrecen_rp_7.npy', 'wine_customer_isomap_10.npy', 'rice_seed_gonen_jasmine_lle_16.npy', 'dermatology_isomap_18.npy', 'epileptic_seizure_recognition_lle_5.npy', 'classification_in_asteroseismology_tsne_15.npy', 'statlog_image_segmentation_lle_5.npy', 'rice_seed_gonen_jasmine_rp_10.npy', 'diabetic_retinopathy_debrecen_lle_18.npy', 'htru2_rp_5.npy', 'dermatology_isomap_5.npy', 'website_phishing_isomap_19.npy', 'diabetic_retinopathy_debrecen_isomap_4.npy', 'classification_in_asteroseismology_tsne_2.npy', 'wireless_indoor_localization_lle_14.npy', 'imdb_lle_1.npy', 'human_stress_detection_tsne_17.npy', 'dry_bean_densmap_15.npy', 'raisin_umato_5.npy', 'insurance_company_benchmark_densmap_9.npy', 'magic_gamma_telescope_umap_1.npy', 'banknote_authentication_rp_0.npy', 'diabetic_retinopathy_debrecen_densmap_10.npy', 'fashion_mnist_densmap_0.npy', 'ph_recognition_densmap_10.npy', 'credit_risk_classification_lle_8.npy', 'world12d_densmap_5.npy', 'website_phishing_densmap_2.npy', 'classification_in_asteroseismology_densmap_5.npy', 'taiwanese_bankruptcy_prediction_umap_7.npy', 'diabetic_retinopathy_debrecen_lle_13.npy', 'siberian_weather_stats_umap_2.npy', 'statlog_image_segmentation_tsne_13.npy', 'seismic_bumps_lle_12.npy', 'spambase_lle_3.npy', 'smoker_condition_densmap_17.npy', 'statlog_german_credit_tsne_10.npy', 'optical_recognition_of_handwritten_digits_umap_0.npy', 'microbes_tsne_7.npy', 'weather_densmap_2.npy', 'statlog_image_segmentation_tsne_2.npy', 'coil20_isomap_13.npy', 'spectf_heart_tsne_18.npy', 'letter_recognition_umap_8.npy', 'fashion_mnist_densmap_2.npy', 'statlog_image_segmentation_lle_3.npy', 'credit_risk_classification_umap_11.npy', 'human_stress_detection_tsne_9.npy', 'predicting_pulsar_star_tsne_6.npy', 'cardiovascular_study_densmap_1.npy', 'statlog_image_segmentation_tsne_6.npy', 'predicting_pulsar_star_tsne_16.npy', 'statlog_image_segmentation_isomap_15.npy', 'fraud_detection_bank_isomap_8.npy', 'cardiovascular_study_isomap_16.npy', 'spectf_heart_tsne_4.npy', 'rice_seed_gonen_jasmine_tsne_0.npy', 'pen_based_recognition_of_handwritten_digits_tsne_1.npy', 'website_phishing_tsne_8.npy', 'hepatitis_tsne_9.npy', 'optical_recognition_of_handwritten_digits_densmap_5.npy', 'statlog_image_segmentation_densmap_7.npy', 'ph_recognition_tsne_15.npy', 'statlog_image_segmentation_umap_2.npy', 'coil20_isomap_7.npy', 'mnist64_densmap_19.npy', 'htru2_tsne_9.npy', 'fashion_mnist_umap_14.npy', 'pen_based_recognition_of_handwritten_digits_umap_10.npy', 'spectf_heart_tsne_5.npy', 'coil20_isomap_4.npy', 'hate_speech_densmap_3.npy', 'spectf_heart_tsne_1.npy', 'pen_based_recognition_of_handwritten_digits_densmap_13.npy', 'ph_recognition_densmap_8.npy', 'predicting_pulsar_star_umap_9.npy', 'hepatitis_tsne_17.npy', 'fraud_detection_bank_densmap_7.npy', 'pen_based_recognition_of_handwritten_digits_densmap_17.npy', 'pen_based_recognition_of_handwritten_digits_umap_18.npy', 'fashion_mnist_tsne_9.npy', 'crowdsourced_mapping_umap_2.npy', 'pen_based_recognition_of_handwritten_digits_tsne_7.npy', 'seismic_bumps_umap_17.npy', 'durum_wheat_features_umap_14.npy', 'taiwanese_bankruptcy_prediction_umap_17.npy', 'mammographic_mass_tsne_14.npy', 'pen_based_recognition_of_handwritten_digits_umap_15.npy', 'statlog_image_segmentation_tsne_8.npy', 'insurance_company_benchmark_umap_7.npy', 'ph_recognition_isomap_14.npy', 'ph_recognition_umap_3.npy', 'pen_based_recognition_of_handwritten_digits_densmap_6.npy', 'ph_recognition_densmap_7.npy', 'coil20_densmap_16.npy', 'seismic_bumps_umap_14.npy', 'optical_recognition_of_handwritten_digits_tsne_17.npy', 'optical_recognition_of_handwritten_digits_densmap_11.npy', 'seismic_bumps_umap_1.npy', 'seismic_bumps_tsne_19.npy', 'pen_based_recognition_of_handwritten_digits_umap_17.npy']\n",
      "['dermatology_rp_11', 'statlog_image_segmentation_tsne_2', 'website_phishing_densmap_2', 'ph_recognition_densmap_8']\n"
     ]
    }
   ],
   "source": [
    "with open(\"./scatterplots_identifiers/sampled_datasets.json\", \"r\") as f:\n",
    "\tdatasets_ids = json.load(f)\n",
    "\n",
    "with open(\"./scatterplots_identifiers/sampled_datasets_training.json\", \"r\") as f:\n",
    "\tdatasets_ids_training = json.load(f)\n",
    "\n",
    "datasets_ids_testing = list(set(datasets_ids) - set(datasets_ids_training))\n",
    "\n",
    "print(datasets_ids)\n",
    "print(datasets_ids_training)\n",
    "print(datasets_ids_testing)"
   ]
  },
  {
   "cell_type": "code",
   "execution_count": null,
   "metadata": {},
   "outputs": [],
   "source": []
  },
  {
   "cell_type": "code",
   "execution_count": null,
   "metadata": {},
   "outputs": [],
   "source": []
  }
 ],
 "metadata": {
  "kernelspec": {
   "display_name": "gambiguity",
   "language": "python",
   "name": "python3"
  },
  "language_info": {
   "codemirror_mode": {
    "name": "ipython",
    "version": 3
   },
   "file_extension": ".py",
   "mimetype": "text/x-python",
   "name": "python",
   "nbconvert_exporter": "python",
   "pygments_lexer": "ipython3",
   "version": "3.9.4"
  }
 },
 "nbformat": 4,
 "nbformat_minor": 2
}
